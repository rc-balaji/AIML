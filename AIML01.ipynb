{
  "nbformat": 4,
  "nbformat_minor": 0,
  "metadata": {
    "colab": {
      "provenance": [],
      "authorship_tag": "ABX9TyNq1MgfdSaUwLr9YVWk/FBg",
      "include_colab_link": true
    },
    "kernelspec": {
      "name": "python3",
      "display_name": "Python 3"
    },
    "language_info": {
      "name": "python"
    }
  },
  "cells": [
    {
      "cell_type": "markdown",
      "metadata": {
        "id": "view-in-github",
        "colab_type": "text"
      },
      "source": [
        "<a href=\"https://colab.research.google.com/github/rc-balaji/AIML/blob/main/AIML01.ipynb\" target=\"_parent\"><img src=\"https://colab.research.google.com/assets/colab-badge.svg\" alt=\"Open In Colab\"/></a>"
      ]
    },
    {
      "cell_type": "code",
      "execution_count": 5,
      "metadata": {
        "colab": {
          "base_uri": "https://localhost:8080/"
        },
        "id": "nXRQMsMZTXTg",
        "outputId": "d0a587fb-a247-40f2-e8be-454e94344ab1"
      },
      "outputs": [
        {
          "output_type": "stream",
          "name": "stdout",
          "text": [
            "Vector addition\n",
            "[0.25 0.4  0.5 ]\n"
          ]
        }
      ],
      "source": [
        "import tensorflow as tf\n",
        "vector1=tf.constant([1,2,3])\n",
        "vector2=tf.constant([4,5,6])\n",
        "result=tf.add(vector1,vector2)\n",
        "result = tf.multiply(vector1, vector2)\n",
        "result2 = tf.subtract(vector1, vector2)\n",
        "result3 = tf.divide(vector1, vector2)\n",
        "# result4 = tf.matmul(matrix1, matrix2)\n",
        "result5 = tf.multiply(vector1, vector2)\n",
        "result6 = tf.divide(vector1, vector2)\n",
        "# result7 = tf.pow(vector1, exponent)\n",
        "# result8 = tf.sqrt(vector)\n",
        "# result9 = tf.abs(vector)\n",
        "\n",
        "print(\"Vector addition\")\n",
        "print(result3.numpy())"
      ]
    }
  ]
}
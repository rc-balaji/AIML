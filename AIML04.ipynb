{
  "nbformat": 4,
  "nbformat_minor": 0,
  "metadata": {
    "colab": {
      "provenance": [],
      "authorship_tag": "ABX9TyNrj6cvphrf7wpeeioOJwWb",
      "include_colab_link": true
    },
    "kernelspec": {
      "name": "python3",
      "display_name": "Python 3"
    },
    "language_info": {
      "name": "python"
    }
  },
  "cells": [
    {
      "cell_type": "markdown",
      "metadata": {
        "id": "view-in-github",
        "colab_type": "text"
      },
      "source": [
        "<a href=\"https://colab.research.google.com/github/rc-balaji/AIML/blob/main/AIML04.ipynb\" target=\"_parent\"><img src=\"https://colab.research.google.com/assets/colab-badge.svg\" alt=\"Open In Colab\"/></a>"
      ]
    },
    {
      "cell_type": "code",
      "execution_count": null,
      "metadata": {
        "colab": {
          "base_uri": "https://localhost:8080/"
        },
        "id": "X8J2CEanWLBB",
        "outputId": "32544ffb-76c5-462e-be72-478d7c833b2c"
      },
      "outputs": [
        {
          "output_type": "stream",
          "name": "stdout",
          "text": [
            "Epoch 1/5\n",
            "4/4 [==============================] - 2s 9ms/step - loss: 0.7025 - accuracy: 0.4600\n",
            "Epoch 2/5\n",
            "4/4 [==============================] - 0s 6ms/step - loss: 0.6986 - accuracy: 0.4800\n",
            "Epoch 3/5\n",
            "4/4 [==============================] - 0s 6ms/step - loss: 0.6970 - accuracy: 0.4900\n",
            "Epoch 4/5\n",
            "4/4 [==============================] - 0s 6ms/step - loss: 0.6952 - accuracy: 0.4800\n",
            "Epoch 5/5\n",
            "4/4 [==============================] - 0s 6ms/step - loss: 0.6944 - accuracy: 0.5000\n",
            "1/1 [==============================] - 0s 167ms/step\n",
            "[[0.4415508 ]\n",
            " [0.47158125]\n",
            " [0.47587013]\n",
            " [0.48292634]\n",
            " [0.40357876]\n",
            " [0.4908299 ]\n",
            " [0.4683045 ]\n",
            " [0.4705737 ]\n",
            " [0.4776614 ]\n",
            " [0.44621107]]\n"
          ]
        }
      ],
      "source": [
        "import numpy as np\n",
        "from keras.models import Sequential\n",
        "from keras.layers import Dense\n",
        "\n",
        "X = np.random.rand(100, 10)\n",
        "y = np.random.randint(2, size=(100, 1))\n",
        "\n",
        "model = Sequential()\n",
        "\n",
        "model.add(Dense(32, activation='relu', input_dim=10))\n",
        "model.add(Dense(16, activation='relu'))\n",
        "model.add(Dense(1, activation='sigmoid'))\n",
        "model.compile(optimizer='adam', loss='binary_crossentropy', metrics=['accuracy'])\n",
        "\n",
        "model.fit(X, y, epochs=5, batch_size=32)\n",
        "new_data = np.random.rand(10, 10)\n",
        "predictions = model.predict(new_data)\n",
        "print(predictions)"
      ]
    }
  ]
}
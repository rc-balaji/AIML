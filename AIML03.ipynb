{
  "nbformat": 4,
  "nbformat_minor": 0,
  "metadata": {
    "colab": {
      "provenance": [],
      "authorship_tag": "ABX9TyPY48cSuoToOEVZo0Brm46a",
      "include_colab_link": true
    },
    "kernelspec": {
      "name": "python3",
      "display_name": "Python 3"
    },
    "language_info": {
      "name": "python"
    }
  },
  "cells": [
    {
      "cell_type": "markdown",
      "metadata": {
        "id": "view-in-github",
        "colab_type": "text"
      },
      "source": [
        "<a href=\"https://colab.research.google.com/github/rc-balaji/AIML/blob/main/AIML03.ipynb\" target=\"_parent\"><img src=\"https://colab.research.google.com/assets/colab-badge.svg\" alt=\"Open In Colab\"/></a>"
      ]
    },
    {
      "cell_type": "code",
      "execution_count": null,
      "metadata": {
        "colab": {
          "base_uri": "https://localhost:8080/"
        },
        "id": "hDuzH_5dVf0d",
        "outputId": "5e547e9a-b9b9-46f5-c7f4-7cad7c73d902"
      },
      "outputs": [
        {
          "output_type": "stream",
          "name": "stdout",
          "text": [
            "Epoch 1/5\n",
            "24/24 [==============================] - 2s 64ms/step - loss: 2.0830 - accuracy: 0.3799 - val_loss: 1.7333 - val_accuracy: 0.7086\n",
            "Epoch 2/5\n",
            "24/24 [==============================] - 1s 55ms/step - loss: 1.4002 - accuracy: 0.7461 - val_loss: 1.0360 - val_accuracy: 0.8183\n",
            "Epoch 3/5\n",
            "24/24 [==============================] - 1s 54ms/step - loss: 0.8713 - accuracy: 0.8182 - val_loss: 0.6742 - val_accuracy: 0.8615\n",
            "Epoch 4/5\n",
            "24/24 [==============================] - 2s 97ms/step - loss: 0.6129 - accuracy: 0.8601 - val_loss: 0.4983 - val_accuracy: 0.8871\n",
            "Epoch 5/5\n",
            "24/24 [==============================] - 2s 67ms/step - loss: 0.4778 - accuracy: 0.8852 - val_loss: 0.4057 - val_accuracy: 0.9007\n",
            "test loss, test acc: [0.41624316573143005, 0.8982999920845032]\n"
          ]
        }
      ],
      "source": [
        "import tensorflow as tf\n",
        "import numpy as np\n",
        "from tensorflow.keras.models import Sequential\n",
        "from tensorflow.keras.layers import Flatten\n",
        "from tensorflow.keras.layers import Dense\n",
        "from tensorflow.keras.layers import Activation\n",
        "import matplotlib.pyplot as plt\n",
        "\n",
        "(x_train, y_train), (x_test, y_test) = tf.keras.datasets.mnist.load_data()\n",
        "x_train = x_train.astype('float32')\n",
        "x_test = x_test.astype('float32')\n",
        "\n",
        "\n",
        "gray_scale = 255\n",
        "x_train /= gray_scale\n",
        "x_test /= gray_scale\n",
        "\n",
        "\n",
        "model = Sequential([\n",
        "\tFlatten(input_shape=(28, 28)),\n",
        "\tDense(256, activation='sigmoid'),\n",
        "\tDense(128, activation='sigmoid'),\n",
        "\tDense(10, activation='sigmoid'),\n",
        "])\n",
        "\n",
        "model.compile(optimizer='adam',\n",
        "\t\t\tloss='sparse_categorical_crossentropy',\n",
        "\t\t\tmetrics=['accuracy'])\n",
        "\n",
        "model.fit(x_train, y_train, epochs=5,\n",
        "\t\tbatch_size=2000,\n",
        "\t\tvalidation_split=0.2)\n",
        "\n",
        "results = model.evaluate(x_test, y_test, verbose = 0)\n",
        "print('test loss, test acc:', results)\n",
        "\n"
      ]
    }
  ]
}